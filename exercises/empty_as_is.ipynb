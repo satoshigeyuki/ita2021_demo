{
 "cells": [
  {
   "cell_type": "markdown",
   "metadata": {},
   "source": [
    "# TO BE FILLED\n",
    "\n",
    "TO BE FILLED\n",
    "\n",
    "（以下，解答欄）"
   ]
  },
  {
   "cell_type": "markdown",
   "metadata": {},
   "source": []
  }
 ],
 "metadata": {
  "judge_master": {
   "autograde": false,
   "deadlines": {
    "begin": null,
    "check": null,
    "close": null,
    "end": null,
    "open": null
   },
   "drive": null,
   "exercise_key": "ex2",
   "shared_after_confirmed": null,
   "title": "Ex2. Five built-in types",
   "version": "81a3b3b2d8f2d4ac46c0d83e6e2baafe63e0adf2"
  },
  "kernelspec": {
   "display_name": "Python 3",
   "language": "python",
   "name": "python3"
  },
  "language_info": {
   "codemirror_mode": {
    "name": "ipython",
    "version": 3
   },
   "file_extension": ".py",
   "mimetype": "text/x-python",
   "name": "python",
   "nbconvert_exporter": "python",
   "pygments_lexer": "ipython3",
   "version": "3.8.8"
  }
 },
 "nbformat": 4,
 "nbformat_minor": 4
}
